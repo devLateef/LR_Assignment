{
  "cells": [
    {
      "cell_type": "code",
      "execution_count": 189,
      "metadata": {
        "id": "-Fe7TUOiorrx"
      },
      "outputs": [],
      "source": [
        "# Import all necessary libraries\n",
        "import pandas as pd\n",
        "import numpy as np\n",
        "import matplotlib.pyplot as plt\n",
        "import seaborn as sns\n",
        "from sklearn.model_selection import train_test_split\n",
        "from sklearn.preprocessing import StandardScaler\n",
        "from sklearn.linear_model import LogisticRegression\n",
        "from sklearn.metrics import accuracy_score, confusion_matrix, classification_report"
      ]
    },
    {
      "cell_type": "code",
      "execution_count": 190,
      "metadata": {
        "colab": {
          "base_uri": "https://localhost:8080/"
        },
        "id": "1qKoNn9Nm8PG",
        "outputId": "e560b7ba-691b-4e81-e13d-c656dd5254b7"
      },
      "outputs": [],
      "source": [
        "# from google.colab import drive\n",
        "# drive.mount('/content/drive')"
      ]
    },
    {
      "cell_type": "code",
      "execution_count": 191,
      "metadata": {
        "id": "y28247G3oPfh"
      },
      "outputs": [],
      "source": [
        "data_path = \"~/Desktop/LR_Assignment/dataset/SBAcase.csv\""
      ]
    },
    {
      "cell_type": "code",
      "execution_count": 192,
      "metadata": {
        "id": "wDqiAKbVopgK"
      },
      "outputs": [],
      "source": [
        "# Read my data\n",
        "data = pd.read_csv(data_path)"
      ]
    },
    {
      "cell_type": "code",
      "execution_count": 193,
      "metadata": {
        "colab": {
          "base_uri": "https://localhost:8080/"
        },
        "id": "M_mFPBdMTuPg",
        "outputId": "e2751b83-7f16-469a-8523-b46d5e50b6d5"
      },
      "outputs": [
        {
          "data": {
            "text/plain": [
              "(2102, 35)"
            ]
          },
          "execution_count": 193,
          "metadata": {},
          "output_type": "execute_result"
        }
      ],
      "source": [
        "# Check the dimension of my data\n",
        "data.shape"
      ]
    },
    {
      "cell_type": "markdown",
      "metadata": {
        "id": "4AnC3BDUp9-h"
      },
      "source": [
        "I tried to examine the first five rows of my dataset to know what it entails"
      ]
    },
    {
      "cell_type": "code",
      "execution_count": 194,
      "metadata": {
        "colab": {
          "base_uri": "https://localhost:8080/",
          "height": 483
        },
        "id": "05R1ecvjp00i",
        "outputId": "028c8682-331e-4590-cd91-c76ba6d604bb"
      },
      "outputs": [
        {
          "data": {
            "text/plain": [
              "Selected  LoanNr_ChkDgt  Name                            City             State  Zip    Bank                            BankState  NAICS   ApprovalDate  ApprovalFY  Term  NoEmp  NewExist  CreateJob  RetainedJob  FranchiseCode  UrbanRural  RevLineCr  LowDoc  ChgOffDate  DisbursementDate  DisbursementGross  BalanceGross  MIS_Status  ChgOffPrinGr  GrAppv  SBA_Appv  New  RealEstate  Portion  Recession  daysterm  xx       Default\n",
              "1         9827804009     TR INVESTMENTS                  EL CAJON         CA     92021  JPMORGAN CHASE BANK NATL ASSOC  IL         531390  16832         2006        32    2      2.0       0          2            1              2           Y          N       18452.0     16860.0           76353              0             CHGOFF      23594         30000   15000     1    0           0.50     1          960       17820.0  1          1\n",
              "0         1015066002     SUPERIOR BROKERS REALTY         HUNTINGTON PARK  CA     90255  U.S. BANK NATIONAL ASSOCIATION  OH         531210  16841         2006        269   2      1.0       0          2            1              1           0          N       18641.0     16860.0           297500             0             CHGOFF      247074        297500  223125    0    1           0.75     0          8070      24930.0  1          1\n",
              "          1018975003     SOUTHLAND MGT., CO.             SANTA ANA        CA     92704  BANK OF AMERICA NATL ASSOC      NC         531390  16252         2004        22    5      1.0       0          0            1              1           N          N       18189.0     16283.0           50000              0             CHGOFF      35333         50000   25000     0    0           0.50     0          660       16943.0  1          1\n",
              "          1077145001     DESERT REALTY & DEVELOPMENT CO  INGLEWOOD        CA     90305  BANK OF AMERICA NATL ASSOC      NC         531210  16350         2005        67    12     1.0       0          0            1              1           N          N       16932.0     16375.0           50000              0             CHGOFF      50000         50000   25000     0    0           0.50     0          2010      18385.0  1          1\n",
              "          1101815002     Shaky, Inc.                     STUDIO CITY      CA     91604  BANK OF AMERICA NATL ASSOC      NC         531210  16385         2005        34    1      2.0       0          0            1              1           N          N       18004.0     16467.0           12750              0             CHGOFF      8415          10000   5000      1    0           0.50     0          1020      17487.0  1          1\n",
              "Name: count, dtype: int64"
            ]
          },
          "execution_count": 194,
          "metadata": {},
          "output_type": "execute_result"
        }
      ],
      "source": [
        "# Inspect my data from the top\n",
        "data.value_counts().head()"
      ]
    },
    {
      "cell_type": "code",
      "execution_count": 195,
      "metadata": {
        "colab": {
          "base_uri": "https://localhost:8080/",
          "height": 552
        },
        "id": "uy8r-rUQVqLq",
        "outputId": "841219d8-1021-4ad4-c7ec-9f41b6667cf6"
      },
      "outputs": [
        {
          "data": {
            "text/plain": [
              "Selected  LoanNr_ChkDgt  Name                            City              State  Zip    Bank                        BankState  NAICS   ApprovalDate  ApprovalFY  Term  NoEmp  NewExist  CreateJob  RetainedJob  FranchiseCode  UrbanRural  RevLineCr  LowDoc  ChgOffDate  DisbursementDate  DisbursementGross  BalanceGross  MIS_Status  ChgOffPrinGr  GrAppv  SBA_Appv  New  RealEstate  Portion  Recession  daysterm  xx       Default\n",
              "0         1260605006     Parto Enterprises, Inc.         HUNTINGTON BEACH  CA     92649  BANK OF AMERICA NATL ASSOC  NC         531312  16533         2005        71    12     1.0       0          12           1              1           T          N       16985.0     16556.0           50000              0             CHGOFF      49725         50000   25000     0    0           0.5      0          2130      18686.0  1          1\n",
              "          1241435008     Los Angeles Properties, Inc. D  TORRANCE          CA     90504  BANK OF AMERICA NATL ASSOC  NC         531210  16517         2005        30    16     1.0       0          16           1              1           N          N       18193.0     16526.0           81937              0             CHGOFF      48632         60000   30000     0    0           0.5      0          900       17426.0  1          1\n",
              "          1227735008     Esprit Funding                  ANAHEIM           CA     92807  BANK OF AMERICA NATL ASSOC  NC         531210  16506         2005        42    4      1.0       0          4            1              1           N          N       17910.0     16587.0           33500              0             CHGOFF      20953         22000   11000     0    0           0.5      1          1260      17847.0  1          1\n",
              "          1173345002     Casa Grande Real Estate         SANTA ANA         CA     92701  BANK OF AMERICA NATL ASSOC  NC         531210  16463         2005        42    12     2.0       0          12           1              1           T          N       17868.0     16495.0           20000              0             CHGOFF      10000         10000   5000      1    0           0.5      1          1260      17755.0  1          1\n",
              "          1168985001     Claudio Gonzalez dba A & A Pro  ADELANTO          CA     92301  BANK OF AMERICA NATL ASSOC  NC         531311  16461         2005        53    2      1.0       1          2            1              1           Y          N       17477.0     16495.0           25000              0             CHGOFF      25000         25000   12500     0    0           0.5      0          1590      18085.0  1          1\n",
              "Name: count, dtype: int64"
            ]
          },
          "execution_count": 195,
          "metadata": {},
          "output_type": "execute_result"
        }
      ],
      "source": [
        "# Inspect my data from the bottom\n",
        "data.value_counts().tail()"
      ]
    },
    {
      "cell_type": "code",
      "execution_count": 196,
      "metadata": {
        "colab": {
          "base_uri": "https://localhost:8080/",
          "height": 587
        },
        "id": "ntvvrT4zV0AU",
        "outputId": "da6665cf-2225-4338-c8f5-2eb3f0bc7752"
      },
      "outputs": [
        {
          "data": {
            "text/plain": [
              "Selected  LoanNr_ChkDgt  Name                            City                            State  Zip    Bank                        BankState  NAICS   ApprovalDate  ApprovalFY  Term  NoEmp  NewExist  CreateJob  RetainedJob  FranchiseCode  UrbanRural  RevLineCr  LowDoc  ChgOffDate  DisbursementDate  DisbursementGross  BalanceGross  MIS_Status  ChgOffPrinGr  GrAppv  SBA_Appv  New  RealEstate  Portion  Recession  daysterm  xx       Default\n",
              "1         2245475000     W.S.H., LLC                     CORONA DL MAR                   CA     92625  CAPITAL ONE NATL ASSOC      VA         531320  17195         2007        60    2      1.0       0          2            0              1           N          N       18162.0     17225.0           100000             0             CHGOFF      82020         100000  50000     0    0           0.5      0          1800      19025.0  1          1\n",
              "0         1846605003     JAMES R. WICK REALTY, INC.      MOORPARK                        CA     93021  CAPITAL ONE NATL ASSOC      VA         531210  16952         2006        58    2      1.0       1          2            0              1           N          N       18288.0     16982.0           50000              0             CHGOFF      43847         50000   25000     0    0           0.5      0          1740      18722.0  1          1\n",
              "1         2920175009     Synergy MBC Inc.                RED BLUFF                       CA     96080  BANK OF AMERICA NATL ASSOC  NC         531311  17555         2008        54    2      1.0       0          2            0              1           N          N       18515.0     17562.0           54312              0             CHGOFF      20012         35000   17500     0    0           0.5      0          1620      19182.0  1          1\n",
              "0         2554946010     ECLYPSE FINANCIAL GROUP AND EC  VENTURA (CORPORATE NAME SAN BU  CA     93001  CITIBANK, N.A.              SD         531210  17135         2007        70    3      1.0       0          3            1              1           Y          N       17765.0     17286.0           19000              0             CHGOFF      9920          10000   5000      0    0           0.5      0          2100      19386.0  1          1\n",
              "          7640844000     US VIDEO & WIRELESS             LA MIRADA                       CA     90638  BANK OF AMERICA NATL ASSOC  NC         532230  16278         2004        67    4      1.0       0          4            1              1           T          N       16887.0     16314.0           50000              0             CHGOFF      50000         50000   25000     0    0           0.5      0          2010      18324.0  1          1\n",
              "Name: count, dtype: int64"
            ]
          },
          "execution_count": 196,
          "metadata": {},
          "output_type": "execute_result"
        }
      ],
      "source": [
        "# I randomly check my dataset with sample method chained with value_counts()\n",
        "data.value_counts().sample(5)"
      ]
    },
    {
      "cell_type": "code",
      "execution_count": 197,
      "metadata": {
        "colab": {
          "base_uri": "https://localhost:8080/"
        },
        "id": "spNGuFw6WT4K",
        "outputId": "a9ff2ca3-fc50-4d1d-c8fa-f78f5d8ad06b"
      },
      "outputs": [
        {
          "data": {
            "text/plain": [
              "np.int64(0)"
            ]
          },
          "execution_count": 197,
          "metadata": {},
          "output_type": "execute_result"
        }
      ],
      "source": [
        "# Check for dublicate\n",
        "data.duplicated().sum()"
      ]
    },
    {
      "cell_type": "code",
      "execution_count": 198,
      "metadata": {
        "id": "ipH845z1hFau"
      },
      "outputs": [],
      "source": [
        "# I dropped this NeExist column because it is redundant as New column contain the same thing\n",
        "data.drop(columns='NewExist', axis=1, inplace=True)"
      ]
    },
    {
      "cell_type": "code",
      "execution_count": 199,
      "metadata": {
        "id": "M3avtN-DhVlz"
      },
      "outputs": [],
      "source": [
        "# Renamed the New column to NewExist\n",
        "data.rename(columns={'New': 'NewExist'}, inplace=True)"
      ]
    },
    {
      "cell_type": "code",
      "execution_count": 200,
      "metadata": {
        "colab": {
          "base_uri": "https://localhost:8080/"
        },
        "id": "1ptbcDGfp3iY",
        "outputId": "b9d307cf-49bf-40ae-f4e0-9d725f83a45c"
      },
      "outputs": [
        {
          "data": {
            "text/plain": [
              "Index(['Selected', 'LoanNr_ChkDgt', 'Name', 'City', 'State', 'Zip', 'Bank',\n",
              "       'BankState', 'NAICS', 'ApprovalDate', 'ApprovalFY', 'Term', 'NoEmp',\n",
              "       'CreateJob', 'RetainedJob', 'FranchiseCode', 'UrbanRural', 'RevLineCr',\n",
              "       'LowDoc', 'ChgOffDate', 'DisbursementDate', 'DisbursementGross',\n",
              "       'BalanceGross', 'MIS_Status', 'ChgOffPrinGr', 'GrAppv', 'SBA_Appv',\n",
              "       'NewExist', 'RealEstate', 'Portion', 'Recession', 'daysterm', 'xx',\n",
              "       'Default'],\n",
              "      dtype='object')"
            ]
          },
          "execution_count": 200,
          "metadata": {},
          "output_type": "execute_result"
        }
      ],
      "source": [
        "# Getting the columns of the data\n",
        "data.columns"
      ]
    },
    {
      "cell_type": "code",
      "execution_count": 201,
      "metadata": {
        "colab": {
          "base_uri": "https://localhost:8080/"
        },
        "id": "UT2JfzHLWKAo",
        "outputId": "05305183-e1f5-49f0-c3a9-b5a7eeddf977"
      },
      "outputs": [
        {
          "name": "stdout",
          "output_type": "stream",
          "text": [
            "<class 'pandas.core.frame.DataFrame'>\n",
            "RangeIndex: 2102 entries, 0 to 2101\n",
            "Data columns (total 34 columns):\n",
            " #   Column             Non-Null Count  Dtype  \n",
            "---  ------             --------------  -----  \n",
            " 0   Selected           2102 non-null   int64  \n",
            " 1   LoanNr_ChkDgt      2102 non-null   int64  \n",
            " 2   Name               2102 non-null   object \n",
            " 3   City               2102 non-null   object \n",
            " 4   State              2102 non-null   object \n",
            " 5   Zip                2102 non-null   int64  \n",
            " 6   Bank               2099 non-null   object \n",
            " 7   BankState          2099 non-null   object \n",
            " 8   NAICS              2102 non-null   int64  \n",
            " 9   ApprovalDate       2102 non-null   int64  \n",
            " 10  ApprovalFY         2102 non-null   int64  \n",
            " 11  Term               2102 non-null   int64  \n",
            " 12  NoEmp              2102 non-null   int64  \n",
            " 13  CreateJob          2102 non-null   int64  \n",
            " 14  RetainedJob        2102 non-null   int64  \n",
            " 15  FranchiseCode      2102 non-null   int64  \n",
            " 16  UrbanRural         2102 non-null   int64  \n",
            " 17  RevLineCr          2100 non-null   object \n",
            " 18  LowDoc             2099 non-null   object \n",
            " 19  ChgOffDate         697 non-null    float64\n",
            " 20  DisbursementDate   2099 non-null   float64\n",
            " 21  DisbursementGross  2102 non-null   int64  \n",
            " 22  BalanceGross       2102 non-null   int64  \n",
            " 23  MIS_Status         2102 non-null   object \n",
            " 24  ChgOffPrinGr       2102 non-null   int64  \n",
            " 25  GrAppv             2102 non-null   int64  \n",
            " 26  SBA_Appv           2102 non-null   int64  \n",
            " 27  NewExist           2102 non-null   int64  \n",
            " 28  RealEstate         2102 non-null   int64  \n",
            " 29  Portion            2102 non-null   float64\n",
            " 30  Recession          2102 non-null   int64  \n",
            " 31  daysterm           2102 non-null   int64  \n",
            " 32  xx                 2099 non-null   float64\n",
            " 33  Default            2102 non-null   int64  \n",
            "dtypes: float64(4), int64(22), object(8)\n",
            "memory usage: 558.5+ KB\n"
          ]
        }
      ],
      "source": [
        "# Exploring my data for understanding\n",
        "data.info()"
      ]
    },
    {
      "cell_type": "code",
      "execution_count": 202,
      "metadata": {
        "colab": {
          "base_uri": "https://localhost:8080/",
          "height": 472
        },
        "id": "4cyFkL_lYyBY",
        "outputId": "9fdbad14-14ec-4752-b185-46daa3754efc"
      },
      "outputs": [
        {
          "data": {
            "image/png": "[encoded data removed]",
            "text/plain": [
              "<Figure size 640x480 with 1 Axes>"
            ]
          },
          "metadata": {},
          "output_type": "display_data"
        }
      ],
      "source": [
        "# I plotted the Selected column to know whether is a relevant feature for my prediction\n",
        "sns.barplot(x='Selected', y='Default', data=data)\n",
        "plt.title(\"Default Rate by Selection Status\")\n",
        "plt.xticks([0,1], ['Paid','Defaulted'])\n",
        "plt.show()"
      ]
    },
    {
      "cell_type": "code",
      "execution_count": 203,
      "metadata": {
        "id": "xCuGDjXvqYxV"
      },
      "outputs": [],
      "source": [
        "# I drop columns not needed for prediction\n",
        "data.drop(labels=['Selected','City', 'Name', 'LoanNr_ChkDgt', 'xx', 'MIS_Status', 'Bank', 'State', 'ChgOffDate', 'ChgOffPrinGr', 'daysterm', 'BalanceGross'], axis=1, inplace=True)"
      ]
    },
    {
      "cell_type": "code",
      "execution_count": 204,
      "metadata": {
        "colab": {
          "base_uri": "https://localhost:8080/"
        },
        "id": "PBfrrXDxiYFo",
        "outputId": "79256882-c3f9-4745-eb4b-f32e09e7a074"
      },
      "outputs": [
        {
          "data": {
            "text/plain": [
              "Index(['Zip', 'BankState', 'NAICS', 'ApprovalDate', 'ApprovalFY', 'Term',\n",
              "       'NoEmp', 'CreateJob', 'RetainedJob', 'FranchiseCode', 'UrbanRural',\n",
              "       'RevLineCr', 'LowDoc', 'DisbursementDate', 'DisbursementGross',\n",
              "       'GrAppv', 'SBA_Appv', 'NewExist', 'RealEstate', 'Portion', 'Recession',\n",
              "       'Default'],\n",
              "      dtype='object')"
            ]
          },
          "execution_count": 204,
          "metadata": {},
          "output_type": "execute_result"
        }
      ],
      "source": [
        "# Check my columns again to confirm the dropping of irrelevant columns\n",
        "data.columns"
      ]
    },
    {
      "cell_type": "code",
      "execution_count": 205,
      "metadata": {
        "colab": {
          "base_uri": "https://localhost:8080/",
          "height": 206
        },
        "id": "_lPPYvArk4hk",
        "outputId": "a95abc61-7f3f-413f-abd7-62999fd630f3"
      },
      "outputs": [
        {
          "data": {
            "text/html": [
              "<div>\n",
              "<style scoped>\n",
              "    .dataframe tbody tr th:only-of-type {\n",
              "        vertical-align: middle;\n",
              "    }\n",
              "\n",
              "    .dataframe tbody tr th {\n",
              "        vertical-align: top;\n",
              "    }\n",
              "\n",
              "    .dataframe thead th {\n",
              "        text-align: right;\n",
              "    }\n",
              "</style>\n",
              "<table border=\"1\" class=\"dataframe\">\n",
              "  <thead>\n",
              "    <tr style=\"text-align: right;\">\n",
              "      <th></th>\n",
              "      <th>BankState</th>\n",
              "      <th>RevLineCr</th>\n",
              "      <th>LowDoc</th>\n",
              "    </tr>\n",
              "  </thead>\n",
              "  <tbody>\n",
              "    <tr>\n",
              "      <th>0</th>\n",
              "      <td>CA</td>\n",
              "      <td>Y</td>\n",
              "      <td>N</td>\n",
              "    </tr>\n",
              "    <tr>\n",
              "      <th>1</th>\n",
              "      <td>CA</td>\n",
              "      <td>Y</td>\n",
              "      <td>N</td>\n",
              "    </tr>\n",
              "    <tr>\n",
              "      <th>2</th>\n",
              "      <td>CA</td>\n",
              "      <td>Y</td>\n",
              "      <td>N</td>\n",
              "    </tr>\n",
              "    <tr>\n",
              "      <th>3</th>\n",
              "      <td>CA</td>\n",
              "      <td>Y</td>\n",
              "      <td>N</td>\n",
              "    </tr>\n",
              "    <tr>\n",
              "      <th>4</th>\n",
              "      <td>CO</td>\n",
              "      <td>0</td>\n",
              "      <td>N</td>\n",
              "    </tr>\n",
              "  </tbody>\n",
              "</table>\n",
              "</div>"
            ],
            "text/plain": [
              "  BankState RevLineCr LowDoc\n",
              "0        CA         Y      N\n",
              "1        CA         Y      N\n",
              "2        CA         Y      N\n",
              "3        CA         Y      N\n",
              "4        CO         0      N"
            ]
          },
          "execution_count": 205,
          "metadata": {},
          "output_type": "execute_result"
        }
      ],
      "source": [
        "# I try to check for the categorical variables in my dataset\n",
        "data.select_dtypes(include='object').head()"
      ]
    },
    {
      "cell_type": "code",
      "execution_count": 206,
      "metadata": {
        "colab": {
          "base_uri": "https://localhost:8080/",
          "height": 410
        },
        "id": "3S7iPaAH36uR",
        "outputId": "f51789ad-7fe5-41e4-e1d0-f13e3e6284e2"
      },
      "outputs": [
        {
          "data": {
            "image/png": "[encoded data removed]",
            "text/plain": [
              "<Figure size 600x400 with 1 Axes>"
            ]
          },
          "metadata": {},
          "output_type": "display_data"
        }
      ],
      "source": [
        "plt.figure(figsize=(6, 4))\n",
        "sns.countplot(x=data.Default, data=data)\n",
        "plt.title('Distribution of Loan Defaults')\n",
        "plt.xticks([0,1], ['Paid','Defaulted'])\n",
        "plt.show()"
      ]
    },
    {
      "cell_type": "code",
      "execution_count": 207,
      "metadata": {
        "colab": {
          "base_uri": "https://localhost:8080/",
          "height": 241
        },
        "id": "_z1_kovn5vMR",
        "outputId": "32dd5bd0-2590-49a6-fa06-9ea34b3681db"
      },
      "outputs": [
        {
          "data": {
            "text/plain": [
              "RevLineCr\n",
              "Y    737\n",
              "0    729\n",
              "N    580\n",
              "T     54\n",
              "Name: count, dtype: int64"
            ]
          },
          "execution_count": 207,
          "metadata": {},
          "output_type": "execute_result"
        }
      ],
      "source": [
        "# check values in my RevLineCr column\n",
        "data['RevLineCr'].value_counts()"
      ]
    },
    {
      "cell_type": "code",
      "execution_count": 208,
      "metadata": {
        "id": "cpKmLzrt59XF"
      },
      "outputs": [],
      "source": [
        "# Converted categorical Revolving Line of Credit variable to an integer\n",
        "data['RevLineCr'] = data['RevLineCr'].map({'Y': 1, 'N': 0, '0': 1, 'T': 0})"
      ]
    },
    {
      "cell_type": "code",
      "execution_count": 209,
      "metadata": {
        "colab": {
          "base_uri": "https://localhost:8080/",
          "height": 472
        },
        "id": "VZGwf8wp6n2D",
        "outputId": "02f3f8af-bde5-4ae7-ec97-8d5cb2b7422c"
      },
      "outputs": [
        {
          "data": {
            "image/png": "[encoded data removed]",
            "text/plain": [
              "<Figure size 640x480 with 1 Axes>"
            ]
          },
          "metadata": {},
          "output_type": "display_data"
        }
      ],
      "source": [
        "# Plotted BankState against Default to gain insight\n",
        "sns.barplot(x='BankState', y='Default', data=data)\n",
        "plt.title('Distribution of Bank State')\n",
        "plt.show()"
      ]
    },
    {
      "cell_type": "code",
      "execution_count": 210,
      "metadata": {
        "colab": {
          "base_uri": "https://localhost:8080/",
          "height": 526
        },
        "id": "_bOynuFgPXLh",
        "outputId": "76f326ad-88b1-41f1-b032-9cb5f901af32"
      },
      "outputs": [
        {
          "data": {
            "text/plain": [
              "([<matplotlib.axis.XTick at 0x27395c51a90>,\n",
              "  <matplotlib.axis.XTick at 0x27395c51310>],\n",
              " [Text(0, 0, 'Paid'), Text(1, 0, 'Defaulted')])"
            ]
          },
          "execution_count": 210,
          "metadata": {},
          "output_type": "execute_result"
        },
        {
          "data": {
            "image/png": "[encoded data removed]",
            "text/plain": [
              "<Figure size 640x480 with 1 Axes>"
            ]
          },
          "metadata": {},
          "output_type": "display_data"
        }
      ],
      "source": [
        "# Plotted Loar Term vs Default\n",
        "sns.boxplot(x='Default', y='Term', data=data, showfliers=False)\n",
        "plt.title('Loan Term vs Default Status')\n",
        "plt.xticks([0,1], ['Paid','Defaulted'])"
      ]
    },
    {
      "cell_type": "code",
      "execution_count": 211,
      "metadata": {
        "colab": {
          "base_uri": "https://localhost:8080/",
          "height": 526
        },
        "id": "GfjVDvhFQfbC",
        "outputId": "4fe45850-17f3-48af-cd59-025326bc307c"
      },
      "outputs": [
        {
          "data": {
            "text/plain": [
              "([<matplotlib.axis.XTick at 0x27395e2e0d0>,\n",
              "  <matplotlib.axis.XTick at 0x27395e2d950>],\n",
              " [Text(0, 0, 'Paid'), Text(1, 0, 'Defaulted')])"
            ]
          },
          "execution_count": 211,
          "metadata": {},
          "output_type": "execute_result"
        },
        {
          "data": {
            "image/png": "[encoded data removed]",
            "text/plain": [
              "<Figure size 640x480 with 1 Axes>"
            ]
          },
          "metadata": {},
          "output_type": "display_data"
        }
      ],
      "source": [
        "# Plotted Disbursment Gross vs Default\n",
        "sns.boxplot(x='Default', y='DisbursementGross', data=data, showfliers=False)\n",
        "plt.title('Disbursement Gross vs Default Status')\n",
        "plt.xticks([0,1], ['Paid','Defaulted'])"
      ]
    },
    {
      "cell_type": "code",
      "execution_count": 212,
      "metadata": {
        "id": "P4jddQNf9Com"
      },
      "outputs": [],
      "source": [
        "# Get top 10 largest bank state from bank state column\n",
        "top_states = data['BankState'].value_counts().nlargest(10).index\n"
      ]
    },
    {
      "cell_type": "code",
      "execution_count": 213,
      "metadata": {
        "id": "mckjskY--lbe"
      },
      "outputs": [],
      "source": [
        "# Impute the categorical variable BankSate\n",
        "data['BankState'] = data['BankState'].apply(lambda x: x if x in top_states else 'Other')\n",
        "data = pd.get_dummies(data, columns=['BankState'], drop_first=True, dtype=int)"
      ]
    },
    {
      "cell_type": "code",
      "execution_count": 214,
      "metadata": {
        "colab": {
          "base_uri": "https://localhost:8080/",
          "height": 255
        },
        "id": "edjiasMf-1nY",
        "outputId": "3eeef3a1-29e1-4c67-e4fa-75384cdb0c3b"
      },
      "outputs": [
        {
          "data": {
            "text/html": [
              "<div>\n",
              "<style scoped>\n",
              "    .dataframe tbody tr th:only-of-type {\n",
              "        vertical-align: middle;\n",
              "    }\n",
              "\n",
              "    .dataframe tbody tr th {\n",
              "        vertical-align: top;\n",
              "    }\n",
              "\n",
              "    .dataframe thead th {\n",
              "        text-align: right;\n",
              "    }\n",
              "</style>\n",
              "<table border=\"1\" class=\"dataframe\">\n",
              "  <thead>\n",
              "    <tr style=\"text-align: right;\">\n",
              "      <th></th>\n",
              "      <th>Zip</th>\n",
              "      <th>NAICS</th>\n",
              "      <th>ApprovalDate</th>\n",
              "      <th>ApprovalFY</th>\n",
              "      <th>Term</th>\n",
              "      <th>NoEmp</th>\n",
              "      <th>CreateJob</th>\n",
              "      <th>RetainedJob</th>\n",
              "      <th>FranchiseCode</th>\n",
              "      <th>UrbanRural</th>\n",
              "      <th>...</th>\n",
              "      <th>BankState_CO</th>\n",
              "      <th>BankState_IL</th>\n",
              "      <th>BankState_NC</th>\n",
              "      <th>BankState_NY</th>\n",
              "      <th>BankState_OH</th>\n",
              "      <th>BankState_OR</th>\n",
              "      <th>BankState_Other</th>\n",
              "      <th>BankState_SD</th>\n",
              "      <th>BankState_TX</th>\n",
              "      <th>BankState_VA</th>\n",
              "    </tr>\n",
              "  </thead>\n",
              "  <tbody>\n",
              "    <tr>\n",
              "      <th>0</th>\n",
              "      <td>92801</td>\n",
              "      <td>532420</td>\n",
              "      <td>15074</td>\n",
              "      <td>2001</td>\n",
              "      <td>36</td>\n",
              "      <td>1</td>\n",
              "      <td>0</td>\n",
              "      <td>0</td>\n",
              "      <td>1</td>\n",
              "      <td>0</td>\n",
              "      <td>...</td>\n",
              "      <td>0</td>\n",
              "      <td>0</td>\n",
              "      <td>0</td>\n",
              "      <td>0</td>\n",
              "      <td>0</td>\n",
              "      <td>0</td>\n",
              "      <td>0</td>\n",
              "      <td>0</td>\n",
              "      <td>0</td>\n",
              "      <td>0</td>\n",
              "    </tr>\n",
              "    <tr>\n",
              "      <th>1</th>\n",
              "      <td>90505</td>\n",
              "      <td>531210</td>\n",
              "      <td>15130</td>\n",
              "      <td>2001</td>\n",
              "      <td>56</td>\n",
              "      <td>1</td>\n",
              "      <td>0</td>\n",
              "      <td>0</td>\n",
              "      <td>1</td>\n",
              "      <td>0</td>\n",
              "      <td>...</td>\n",
              "      <td>0</td>\n",
              "      <td>0</td>\n",
              "      <td>0</td>\n",
              "      <td>0</td>\n",
              "      <td>0</td>\n",
              "      <td>0</td>\n",
              "      <td>0</td>\n",
              "      <td>0</td>\n",
              "      <td>0</td>\n",
              "      <td>0</td>\n",
              "    </tr>\n",
              "    <tr>\n",
              "      <th>2</th>\n",
              "      <td>92103</td>\n",
              "      <td>531210</td>\n",
              "      <td>15188</td>\n",
              "      <td>2001</td>\n",
              "      <td>36</td>\n",
              "      <td>10</td>\n",
              "      <td>0</td>\n",
              "      <td>0</td>\n",
              "      <td>1</td>\n",
              "      <td>0</td>\n",
              "      <td>...</td>\n",
              "      <td>0</td>\n",
              "      <td>0</td>\n",
              "      <td>0</td>\n",
              "      <td>0</td>\n",
              "      <td>0</td>\n",
              "      <td>0</td>\n",
              "      <td>0</td>\n",
              "      <td>0</td>\n",
              "      <td>0</td>\n",
              "      <td>0</td>\n",
              "    </tr>\n",
              "    <tr>\n",
              "      <th>3</th>\n",
              "      <td>92108</td>\n",
              "      <td>531312</td>\n",
              "      <td>15719</td>\n",
              "      <td>2003</td>\n",
              "      <td>36</td>\n",
              "      <td>6</td>\n",
              "      <td>0</td>\n",
              "      <td>0</td>\n",
              "      <td>1</td>\n",
              "      <td>0</td>\n",
              "      <td>...</td>\n",
              "      <td>0</td>\n",
              "      <td>0</td>\n",
              "      <td>0</td>\n",
              "      <td>0</td>\n",
              "      <td>0</td>\n",
              "      <td>0</td>\n",
              "      <td>0</td>\n",
              "      <td>0</td>\n",
              "      <td>0</td>\n",
              "      <td>0</td>\n",
              "    </tr>\n",
              "    <tr>\n",
              "      <th>4</th>\n",
              "      <td>91345</td>\n",
              "      <td>531390</td>\n",
              "      <td>16840</td>\n",
              "      <td>2006</td>\n",
              "      <td>240</td>\n",
              "      <td>65</td>\n",
              "      <td>3</td>\n",
              "      <td>65</td>\n",
              "      <td>1</td>\n",
              "      <td>1</td>\n",
              "      <td>...</td>\n",
              "      <td>1</td>\n",
              "      <td>0</td>\n",
              "      <td>0</td>\n",
              "      <td>0</td>\n",
              "      <td>0</td>\n",
              "      <td>0</td>\n",
              "      <td>0</td>\n",
              "      <td>0</td>\n",
              "      <td>0</td>\n",
              "      <td>0</td>\n",
              "    </tr>\n",
              "  </tbody>\n",
              "</table>\n",
              "<p>5 rows × 31 columns</p>\n",
              "</div>"
            ],
            "text/plain": [
              "     Zip   NAICS  ApprovalDate  ApprovalFY  Term  NoEmp  CreateJob  \\\n",
              "0  92801  532420         15074        2001    36      1          0   \n",
              "1  90505  531210         15130        2001    56      1          0   \n",
              "2  92103  531210         15188        2001    36     10          0   \n",
              "3  92108  531312         15719        2003    36      6          0   \n",
              "4  91345  531390         16840        2006   240     65          3   \n",
              "\n",
              "   RetainedJob  FranchiseCode  UrbanRural  ...  BankState_CO BankState_IL  \\\n",
              "0            0              1           0  ...             0            0   \n",
              "1            0              1           0  ...             0            0   \n",
              "2            0              1           0  ...             0            0   \n",
              "3            0              1           0  ...             0            0   \n",
              "4           65              1           1  ...             1            0   \n",
              "\n",
              "   BankState_NC  BankState_NY  BankState_OH  BankState_OR  BankState_Other  \\\n",
              "0             0             0             0             0                0   \n",
              "1             0             0             0             0                0   \n",
              "2             0             0             0             0                0   \n",
              "3             0             0             0             0                0   \n",
              "4             0             0             0             0                0   \n",
              "\n",
              "   BankState_SD  BankState_TX  BankState_VA  \n",
              "0             0             0             0  \n",
              "1             0             0             0  \n",
              "2             0             0             0  \n",
              "3             0             0             0  \n",
              "4             0             0             0  \n",
              "\n",
              "[5 rows x 31 columns]"
            ]
          },
          "execution_count": 214,
          "metadata": {},
          "output_type": "execute_result"
        }
      ],
      "source": [
        "# Inspect my data again\n",
        "data.head()"
      ]
    },
    {
      "cell_type": "code",
      "execution_count": 215,
      "metadata": {
        "id": "znDNield7lPF"
      },
      "outputs": [],
      "source": [
        "# Convert Low Documentation Loan variable to numeric\n",
        "data['LowDoc'] = data['LowDoc'].map({'Y': 1, 'N': 0})"
      ]
    },
    {
      "cell_type": "code",
      "execution_count": 216,
      "metadata": {
        "colab": {
          "base_uri": "https://localhost:8080/",
          "height": 178
        },
        "id": "bX5QfGMx7sBY",
        "outputId": "9c38da77-661c-42c8-e2b7-2be44db27bcc"
      },
      "outputs": [
        {
          "data": {
            "text/plain": [
              "LowDoc\n",
              "0.0    2053\n",
              "1.0      41\n",
              "Name: count, dtype: int64"
            ]
          },
          "execution_count": 216,
          "metadata": {},
          "output_type": "execute_result"
        }
      ],
      "source": [
        "# Then count it again to see the effect\n",
        "data['LowDoc'].value_counts()"
      ]
    },
    {
      "cell_type": "code",
      "execution_count": 217,
      "metadata": {
        "colab": {
          "base_uri": "https://localhost:8080/"
        },
        "id": "X6im6ZQjqmIK",
        "outputId": "22689a3b-2b15-4774-e5d8-6c16ad7a967c"
      },
      "outputs": [
        {
          "name": "stdout",
          "output_type": "stream",
          "text": [
            "<class 'pandas.core.frame.DataFrame'>\n",
            "RangeIndex: 2102 entries, 0 to 2101\n",
            "Data columns (total 31 columns):\n",
            " #   Column             Non-Null Count  Dtype  \n",
            "---  ------             --------------  -----  \n",
            " 0   Zip                2102 non-null   int64  \n",
            " 1   NAICS              2102 non-null   int64  \n",
            " 2   ApprovalDate       2102 non-null   int64  \n",
            " 3   ApprovalFY         2102 non-null   int64  \n",
            " 4   Term               2102 non-null   int64  \n",
            " 5   NoEmp              2102 non-null   int64  \n",
            " 6   CreateJob          2102 non-null   int64  \n",
            " 7   RetainedJob        2102 non-null   int64  \n",
            " 8   FranchiseCode      2102 non-null   int64  \n",
            " 9   UrbanRural         2102 non-null   int64  \n",
            " 10  RevLineCr          2100 non-null   float64\n",
            " 11  LowDoc             2094 non-null   float64\n",
            " 12  DisbursementDate   2099 non-null   float64\n",
            " 13  DisbursementGross  2102 non-null   int64  \n",
            " 14  GrAppv             2102 non-null   int64  \n",
            " 15  SBA_Appv           2102 non-null   int64  \n",
            " 16  NewExist           2102 non-null   int64  \n",
            " 17  RealEstate         2102 non-null   int64  \n",
            " 18  Portion            2102 non-null   float64\n",
            " 19  Recession          2102 non-null   int64  \n",
            " 20  Default            2102 non-null   int64  \n",
            " 21  BankState_CO       2102 non-null   int64  \n",
            " 22  BankState_IL       2102 non-null   int64  \n",
            " 23  BankState_NC       2102 non-null   int64  \n",
            " 24  BankState_NY       2102 non-null   int64  \n",
            " 25  BankState_OH       2102 non-null   int64  \n",
            " 26  BankState_OR       2102 non-null   int64  \n",
            " 27  BankState_Other    2102 non-null   int64  \n",
            " 28  BankState_SD       2102 non-null   int64  \n",
            " 29  BankState_TX       2102 non-null   int64  \n",
            " 30  BankState_VA       2102 non-null   int64  \n",
            "dtypes: float64(4), int64(27)\n",
            "memory usage: 509.2 KB\n"
          ]
        }
      ],
      "source": [
        "# Exploring my data for understanding\n",
        "data.info()"
      ]
    },
    {
      "cell_type": "code",
      "execution_count": 218,
      "metadata": {
        "colab": {
          "base_uri": "https://localhost:8080/",
          "height": 1000
        },
        "id": "6abwYcOhq954",
        "outputId": "44211186-b4a3-4ffc-ac44-fd57834d8bf5"
      },
      "outputs": [
        {
          "data": {
            "text/plain": [
              "Zip                  0\n",
              "NAICS                0\n",
              "ApprovalDate         0\n",
              "ApprovalFY           0\n",
              "Term                 0\n",
              "NoEmp                0\n",
              "CreateJob            0\n",
              "RetainedJob          0\n",
              "FranchiseCode        0\n",
              "UrbanRural           0\n",
              "RevLineCr            2\n",
              "LowDoc               8\n",
              "DisbursementDate     3\n",
              "DisbursementGross    0\n",
              "GrAppv               0\n",
              "SBA_Appv             0\n",
              "NewExist             0\n",
              "RealEstate           0\n",
              "Portion              0\n",
              "Recession            0\n",
              "Default              0\n",
              "BankState_CO         0\n",
              "BankState_IL         0\n",
              "BankState_NC         0\n",
              "BankState_NY         0\n",
              "BankState_OH         0\n",
              "BankState_OR         0\n",
              "BankState_Other      0\n",
              "BankState_SD         0\n",
              "BankState_TX         0\n",
              "BankState_VA         0\n",
              "dtype: int64"
            ]
          },
          "execution_count": 218,
          "metadata": {},
          "output_type": "execute_result"
        }
      ],
      "source": [
        "# Getting to know how many missing values I have in the data\n",
        "data.isnull().sum()"
      ]
    },
    {
      "cell_type": "code",
      "execution_count": 219,
      "metadata": {
        "id": "0oJjFI-2tGAX"
      },
      "outputs": [],
      "source": [
        "# Dropping columns with missing values less than 0.05% of the dataset\n",
        "threshold = len(data) * 0.05\n",
        "cols_to_drop = data.columns[data.isna().sum() < threshold]"
      ]
    },
    {
      "cell_type": "code",
      "execution_count": 220,
      "metadata": {
        "id": "v-zqbU8VtfpP"
      },
      "outputs": [],
      "source": [
        "# Dropped missing values inplace\n",
        "data.dropna(subset=cols_to_drop, inplace=True)"
      ]
    },
    {
      "cell_type": "code",
      "execution_count": 221,
      "metadata": {
        "colab": {
          "base_uri": "https://localhost:8080/",
          "height": 1000
        },
        "id": "vHNezIwPHLoW",
        "outputId": "d8fbb980-243e-4cd7-ddbe-55fdf11ac650"
      },
      "outputs": [
        {
          "data": {
            "text/plain": [
              "Zip                  0\n",
              "NAICS                0\n",
              "ApprovalDate         0\n",
              "ApprovalFY           0\n",
              "Term                 0\n",
              "NoEmp                0\n",
              "CreateJob            0\n",
              "RetainedJob          0\n",
              "FranchiseCode        0\n",
              "UrbanRural           0\n",
              "RevLineCr            0\n",
              "LowDoc               0\n",
              "DisbursementDate     0\n",
              "DisbursementGross    0\n",
              "GrAppv               0\n",
              "SBA_Appv             0\n",
              "NewExist             0\n",
              "RealEstate           0\n",
              "Portion              0\n",
              "Recession            0\n",
              "Default              0\n",
              "BankState_CO         0\n",
              "BankState_IL         0\n",
              "BankState_NC         0\n",
              "BankState_NY         0\n",
              "BankState_OH         0\n",
              "BankState_OR         0\n",
              "BankState_Other      0\n",
              "BankState_SD         0\n",
              "BankState_TX         0\n",
              "BankState_VA         0\n",
              "dtype: int64"
            ]
          },
          "execution_count": 221,
          "metadata": {},
          "output_type": "execute_result"
        }
      ],
      "source": [
        "# Check my data again to verify no missing values\n",
        "data.isna().sum()"
      ]
    },
    {
      "cell_type": "code",
      "execution_count": 222,
      "metadata": {
        "colab": {
          "base_uri": "https://localhost:8080/"
        },
        "id": "5oSow2HjFELj",
        "outputId": "6d25ab1e-fdcd-478e-e1f4-61ff276adce5"
      },
      "outputs": [
        {
          "name": "stdout",
          "output_type": "stream",
          "text": [
            "<class 'pandas.core.frame.DataFrame'>\n",
            "Index: 2089 entries, 0 to 2100\n",
            "Data columns (total 31 columns):\n",
            " #   Column             Non-Null Count  Dtype  \n",
            "---  ------             --------------  -----  \n",
            " 0   Zip                2089 non-null   int64  \n",
            " 1   NAICS              2089 non-null   int64  \n",
            " 2   ApprovalDate       2089 non-null   int64  \n",
            " 3   ApprovalFY         2089 non-null   int64  \n",
            " 4   Term               2089 non-null   int64  \n",
            " 5   NoEmp              2089 non-null   int64  \n",
            " 6   CreateJob          2089 non-null   int64  \n",
            " 7   RetainedJob        2089 non-null   int64  \n",
            " 8   FranchiseCode      2089 non-null   int64  \n",
            " 9   UrbanRural         2089 non-null   int64  \n",
            " 10  RevLineCr          2089 non-null   float64\n",
            " 11  LowDoc             2089 non-null   float64\n",
            " 12  DisbursementDate   2089 non-null   float64\n",
            " 13  DisbursementGross  2089 non-null   int64  \n",
            " 14  GrAppv             2089 non-null   int64  \n",
            " 15  SBA_Appv           2089 non-null   int64  \n",
            " 16  NewExist           2089 non-null   int64  \n",
            " 17  RealEstate         2089 non-null   int64  \n",
            " 18  Portion            2089 non-null   float64\n",
            " 19  Recession          2089 non-null   int64  \n",
            " 20  Default            2089 non-null   int64  \n",
            " 21  BankState_CO       2089 non-null   int64  \n",
            " 22  BankState_IL       2089 non-null   int64  \n",
            " 23  BankState_NC       2089 non-null   int64  \n",
            " 24  BankState_NY       2089 non-null   int64  \n",
            " 25  BankState_OH       2089 non-null   int64  \n",
            " 26  BankState_OR       2089 non-null   int64  \n",
            " 27  BankState_Other    2089 non-null   int64  \n",
            " 28  BankState_SD       2089 non-null   int64  \n",
            " 29  BankState_TX       2089 non-null   int64  \n",
            " 30  BankState_VA       2089 non-null   int64  \n",
            "dtypes: float64(4), int64(27)\n",
            "memory usage: 522.2 KB\n"
          ]
        }
      ],
      "source": [
        "# Inspect my data again\n",
        "data.info()"
      ]
    },
    {
      "cell_type": "code",
      "execution_count": 223,
      "metadata": {},
      "outputs": [
        {
          "data": {
            "text/html": [
              "<div>\n",
              "<style scoped>\n",
              "    .dataframe tbody tr th:only-of-type {\n",
              "        vertical-align: middle;\n",
              "    }\n",
              "\n",
              "    .dataframe tbody tr th {\n",
              "        vertical-align: top;\n",
              "    }\n",
              "\n",
              "    .dataframe thead th {\n",
              "        text-align: right;\n",
              "    }\n",
              "</style>\n",
              "<table border=\"1\" class=\"dataframe\">\n",
              "  <thead>\n",
              "    <tr style=\"text-align: right;\">\n",
              "      <th></th>\n",
              "      <th>DisbursementGross</th>\n",
              "      <th>SBA_Appv</th>\n",
              "      <th>Term</th>\n",
              "      <th>Default</th>\n",
              "    </tr>\n",
              "  </thead>\n",
              "  <tbody>\n",
              "    <tr>\n",
              "      <th>DisbursementGross</th>\n",
              "      <td>1.000000</td>\n",
              "      <td>0.972684</td>\n",
              "      <td>0.602772</td>\n",
              "      <td>-0.270618</td>\n",
              "    </tr>\n",
              "    <tr>\n",
              "      <th>SBA_Appv</th>\n",
              "      <td>0.972684</td>\n",
              "      <td>1.000000</td>\n",
              "      <td>0.626397</td>\n",
              "      <td>-0.294704</td>\n",
              "    </tr>\n",
              "    <tr>\n",
              "      <th>Term</th>\n",
              "      <td>0.602772</td>\n",
              "      <td>0.626397</td>\n",
              "      <td>1.000000</td>\n",
              "      <td>-0.481485</td>\n",
              "    </tr>\n",
              "    <tr>\n",
              "      <th>Default</th>\n",
              "      <td>-0.270618</td>\n",
              "      <td>-0.294704</td>\n",
              "      <td>-0.481485</td>\n",
              "      <td>1.000000</td>\n",
              "    </tr>\n",
              "  </tbody>\n",
              "</table>\n",
              "</div>"
            ],
            "text/plain": [
              "                   DisbursementGross  SBA_Appv      Term   Default\n",
              "DisbursementGross           1.000000  0.972684  0.602772 -0.270618\n",
              "SBA_Appv                    0.972684  1.000000  0.626397 -0.294704\n",
              "Term                        0.602772  0.626397  1.000000 -0.481485\n",
              "Default                    -0.270618 -0.294704 -0.481485  1.000000"
            ]
          },
          "execution_count": 223,
          "metadata": {},
          "output_type": "execute_result"
        }
      ],
      "source": [
        "# Checked the correlation between variables\n",
        "data[['DisbursementGross', 'SBA_Appv', 'Term', 'Default']].corr()"
      ]
    },
    {
      "cell_type": "code",
      "execution_count": 224,
      "metadata": {},
      "outputs": [
        {
          "data": {
            "text/html": [
              "<div>\n",
              "<style scoped>\n",
              "    .dataframe tbody tr th:only-of-type {\n",
              "        vertical-align: middle;\n",
              "    }\n",
              "\n",
              "    .dataframe tbody tr th {\n",
              "        vertical-align: top;\n",
              "    }\n",
              "\n",
              "    .dataframe thead th {\n",
              "        text-align: right;\n",
              "    }\n",
              "</style>\n",
              "<table border=\"1\" class=\"dataframe\">\n",
              "  <thead>\n",
              "    <tr style=\"text-align: right;\">\n",
              "      <th></th>\n",
              "      <th>count</th>\n",
              "      <th>mean</th>\n",
              "      <th>std</th>\n",
              "      <th>min</th>\n",
              "      <th>25%</th>\n",
              "      <th>50%</th>\n",
              "      <th>75%</th>\n",
              "      <th>max</th>\n",
              "    </tr>\n",
              "    <tr>\n",
              "      <th>Term</th>\n",
              "      <th></th>\n",
              "      <th></th>\n",
              "      <th></th>\n",
              "      <th></th>\n",
              "      <th></th>\n",
              "      <th></th>\n",
              "      <th></th>\n",
              "      <th></th>\n",
              "    </tr>\n",
              "  </thead>\n",
              "  <tbody>\n",
              "    <tr>\n",
              "      <th>0</th>\n",
              "      <td>3.0</td>\n",
              "      <td>1.0</td>\n",
              "      <td>0.0</td>\n",
              "      <td>1.0</td>\n",
              "      <td>1.0</td>\n",
              "      <td>1.0</td>\n",
              "      <td>1.0</td>\n",
              "      <td>1.0</td>\n",
              "    </tr>\n",
              "    <tr>\n",
              "      <th>1</th>\n",
              "      <td>6.0</td>\n",
              "      <td>1.0</td>\n",
              "      <td>0.0</td>\n",
              "      <td>1.0</td>\n",
              "      <td>1.0</td>\n",
              "      <td>1.0</td>\n",
              "      <td>1.0</td>\n",
              "      <td>1.0</td>\n",
              "    </tr>\n",
              "    <tr>\n",
              "      <th>2</th>\n",
              "      <td>2.0</td>\n",
              "      <td>1.0</td>\n",
              "      <td>0.0</td>\n",
              "      <td>1.0</td>\n",
              "      <td>1.0</td>\n",
              "      <td>1.0</td>\n",
              "      <td>1.0</td>\n",
              "      <td>1.0</td>\n",
              "    </tr>\n",
              "    <tr>\n",
              "      <th>3</th>\n",
              "      <td>2.0</td>\n",
              "      <td>1.0</td>\n",
              "      <td>0.0</td>\n",
              "      <td>1.0</td>\n",
              "      <td>1.0</td>\n",
              "      <td>1.0</td>\n",
              "      <td>1.0</td>\n",
              "      <td>1.0</td>\n",
              "    </tr>\n",
              "    <tr>\n",
              "      <th>4</th>\n",
              "      <td>4.0</td>\n",
              "      <td>1.0</td>\n",
              "      <td>0.0</td>\n",
              "      <td>1.0</td>\n",
              "      <td>1.0</td>\n",
              "      <td>1.0</td>\n",
              "      <td>1.0</td>\n",
              "      <td>1.0</td>\n",
              "    </tr>\n",
              "    <tr>\n",
              "      <th>...</th>\n",
              "      <td>...</td>\n",
              "      <td>...</td>\n",
              "      <td>...</td>\n",
              "      <td>...</td>\n",
              "      <td>...</td>\n",
              "      <td>...</td>\n",
              "      <td>...</td>\n",
              "      <td>...</td>\n",
              "    </tr>\n",
              "    <tr>\n",
              "      <th>301</th>\n",
              "      <td>1.0</td>\n",
              "      <td>0.0</td>\n",
              "      <td>NaN</td>\n",
              "      <td>0.0</td>\n",
              "      <td>0.0</td>\n",
              "      <td>0.0</td>\n",
              "      <td>0.0</td>\n",
              "      <td>0.0</td>\n",
              "    </tr>\n",
              "    <tr>\n",
              "      <th>303</th>\n",
              "      <td>2.0</td>\n",
              "      <td>0.0</td>\n",
              "      <td>0.0</td>\n",
              "      <td>0.0</td>\n",
              "      <td>0.0</td>\n",
              "      <td>0.0</td>\n",
              "      <td>0.0</td>\n",
              "      <td>0.0</td>\n",
              "    </tr>\n",
              "    <tr>\n",
              "      <th>304</th>\n",
              "      <td>1.0</td>\n",
              "      <td>0.0</td>\n",
              "      <td>NaN</td>\n",
              "      <td>0.0</td>\n",
              "      <td>0.0</td>\n",
              "      <td>0.0</td>\n",
              "      <td>0.0</td>\n",
              "      <td>0.0</td>\n",
              "    </tr>\n",
              "    <tr>\n",
              "      <th>305</th>\n",
              "      <td>1.0</td>\n",
              "      <td>0.0</td>\n",
              "      <td>NaN</td>\n",
              "      <td>0.0</td>\n",
              "      <td>0.0</td>\n",
              "      <td>0.0</td>\n",
              "      <td>0.0</td>\n",
              "      <td>0.0</td>\n",
              "    </tr>\n",
              "    <tr>\n",
              "      <th>306</th>\n",
              "      <td>3.0</td>\n",
              "      <td>0.0</td>\n",
              "      <td>0.0</td>\n",
              "      <td>0.0</td>\n",
              "      <td>0.0</td>\n",
              "      <td>0.0</td>\n",
              "      <td>0.0</td>\n",
              "      <td>0.0</td>\n",
              "    </tr>\n",
              "  </tbody>\n",
              "</table>\n",
              "<p>170 rows × 8 columns</p>\n",
              "</div>"
            ],
            "text/plain": [
              "      count  mean  std  min  25%  50%  75%  max\n",
              "Term                                           \n",
              "0       3.0   1.0  0.0  1.0  1.0  1.0  1.0  1.0\n",
              "1       6.0   1.0  0.0  1.0  1.0  1.0  1.0  1.0\n",
              "2       2.0   1.0  0.0  1.0  1.0  1.0  1.0  1.0\n",
              "3       2.0   1.0  0.0  1.0  1.0  1.0  1.0  1.0\n",
              "4       4.0   1.0  0.0  1.0  1.0  1.0  1.0  1.0\n",
              "...     ...   ...  ...  ...  ...  ...  ...  ...\n",
              "301     1.0   0.0  NaN  0.0  0.0  0.0  0.0  0.0\n",
              "303     2.0   0.0  0.0  0.0  0.0  0.0  0.0  0.0\n",
              "304     1.0   0.0  NaN  0.0  0.0  0.0  0.0  0.0\n",
              "305     1.0   0.0  NaN  0.0  0.0  0.0  0.0  0.0\n",
              "306     3.0   0.0  0.0  0.0  0.0  0.0  0.0  0.0\n",
              "\n",
              "[170 rows x 8 columns]"
            ]
          },
          "execution_count": 224,
          "metadata": {},
          "output_type": "execute_result"
        }
      ],
      "source": [
        "# Groupby term to get insight\n",
        "data.groupby('Term')['Default'].describe()"
      ]
    },
    {
      "cell_type": "code",
      "execution_count": 225,
      "metadata": {},
      "outputs": [
        {
          "data": {
            "text/plain": [
              "DisbursementGross\n",
              "4835       1.000000\n",
              "4999       1.000000\n",
              "5000       0.407407\n",
              "5292       1.000000\n",
              "5600       0.000000\n",
              "             ...   \n",
              "1899500    0.000000\n",
              "1944300    1.000000\n",
              "1999000    0.000000\n",
              "2000000    0.166667\n",
              "2315000    0.000000\n",
              "Name: Default, Length: 1181, dtype: float64"
            ]
          },
          "execution_count": 225,
          "metadata": {},
          "output_type": "execute_result"
        }
      ],
      "source": [
        "# Grouped by DisbursementGross to examine default\n",
        "data.groupby('DisbursementGross')['Default'].mean()"
      ]
    },
    {
      "cell_type": "code",
      "execution_count": 226,
      "metadata": {
        "id": "TgNPuiapOdSC"
      },
      "outputs": [],
      "source": [
        "# Defined my Predictor and the Target\n",
        "X = data.drop('Default', axis=1)\n",
        "y = data['Default']"
      ]
    },
    {
      "cell_type": "code",
      "execution_count": 227,
      "metadata": {
        "id": "3p19z6M7MCZd"
      },
      "outputs": [],
      "source": [
        "# Split my data to both train and test set\n",
        "X_train, X_test, y_train, y_test = train_test_split(X, y, test_size=0.2, random_state=42, stratify=y)"
      ]
    },
    {
      "cell_type": "code",
      "execution_count": 228,
      "metadata": {
        "id": "6ibclQlVHe7x"
      },
      "outputs": [],
      "source": [
        "# Scaled my data to have mean of zero and standard deviation of one\n",
        "scaler = StandardScaler()\n",
        "X_train_scaled = scaler.fit_transform(X_train)\n",
        "X_test_scaled = scaler.transform(X_test)"
      ]
    },
    {
      "cell_type": "code",
      "execution_count": 229,
      "metadata": {
        "colab": {
          "base_uri": "https://localhost:8080/",
          "height": 80
        },
        "id": "Wcz0JPrmH182",
        "outputId": "d5d286bd-4bf6-46fc-f373-3ecba32e7f2c"
      },
      "outputs": [
        {
          "data": {
            "text/html": [
              "<style>#sk-container-id-5 {\n",
              "  /* Definition of color scheme common for light and dark mode */\n",
              "  --sklearn-color-text: black;\n",
              "  --sklearn-color-line: gray;\n",
              "  /* Definition of color scheme for unfitted estimators */\n",
              "  --sklearn-color-unfitted-level-0: #fff5e6;\n",
              "  --sklearn-color-unfitted-level-1: #f6e4d2;\n",
              "  --sklearn-color-unfitted-level-2: #ffe0b3;\n",
              "  --sklearn-color-unfitted-level-3: chocolate;\n",
              "  /* Definition of color scheme for fitted estimators */\n",
              "  --sklearn-color-fitted-level-0: #f0f8ff;\n",
              "  --sklearn-color-fitted-level-1: #d4ebff;\n",
              "  --sklearn-color-fitted-level-2: #b3dbfd;\n",
              "  --sklearn-color-fitted-level-3: cornflowerblue;\n",
              "\n",
              "  /* Specific color for light theme */\n",
              "  --sklearn-color-text-on-default-background: var(--sg-text-color, var(--theme-code-foreground, var(--jp-content-font-color1, black)));\n",
              "  --sklearn-color-background: var(--sg-background-color, var(--theme-background, var(--jp-layout-color0, white)));\n",
              "  --sklearn-color-border-box: var(--sg-text-color, var(--theme-code-foreground, var(--jp-content-font-color1, black)));\n",
              "  --sklearn-color-icon: #696969;\n",
              "\n",
              "  @media (prefers-color-scheme: dark) {\n",
              "    /* Redefinition of color scheme for dark theme */\n",
              "    --sklearn-color-text-on-default-background: var(--sg-text-color, var(--theme-code-foreground, var(--jp-content-font-color1, white)));\n",
              "    --sklearn-color-background: var(--sg-background-color, var(--theme-background, var(--jp-layout-color0, #111)));\n",
              "    --sklearn-color-border-box: var(--sg-text-color, var(--theme-code-foreground, var(--jp-content-font-color1, white)));\n",
              "    --sklearn-color-icon: #878787;\n",
              "  }\n",
              "}\n",
              "\n",
              "#sk-container-id-5 {\n",
              "  color: var(--sklearn-color-text);\n",
              "}\n",
              "\n",
              "#sk-container-id-5 pre {\n",
              "  padding: 0;\n",
              "}\n",
              "\n",
              "#sk-container-id-5 input.sk-hidden--visually {\n",
              "  border: 0;\n",
              "  clip: rect(1px 1px 1px 1px);\n",
              "  clip: rect(1px, 1px, 1px, 1px);\n",
              "  height: 1px;\n",
              "  margin: -1px;\n",
              "  overflow: hidden;\n",
              "  padding: 0;\n",
              "  position: absolute;\n",
              "  width: 1px;\n",
              "}\n",
              "\n",
              "#sk-container-id-5 div.sk-dashed-wrapped {\n",
              "  border: 1px dashed var(--sklearn-color-line);\n",
              "  margin: 0 0.4em 0.5em 0.4em;\n",
              "  box-sizing: border-box;\n",
              "  padding-bottom: 0.4em;\n",
              "  background-color: var(--sklearn-color-background);\n",
              "}\n",
              "\n",
              "#sk-container-id-5 div.sk-container {\n",
              "  /* jupyter's `normalize.less` sets `[hidden] { display: none; }`\n",
              "     but bootstrap.min.css set `[hidden] { display: none !important; }`\n",
              "     so we also need the `!important` here to be able to override the\n",
              "     default hidden behavior on the sphinx rendered scikit-learn.org.\n",
              "     See: https://github.com/scikit-learn/scikit-learn/issues/21755 */\n",
              "  display: inline-block !important;\n",
              "  position: relative;\n",
              "}\n",
              "\n",
              "#sk-container-id-5 div.sk-text-repr-fallback {\n",
              "  display: none;\n",
              "}\n",
              "\n",
              "div.sk-parallel-item,\n",
              "div.sk-serial,\n",
              "div.sk-item {\n",
              "  /* draw centered vertical line to link estimators */\n",
              "  background-image: linear-gradient(var(--sklearn-color-text-on-default-background), var(--sklearn-color-text-on-default-background));\n",
              "  background-size: 2px 100%;\n",
              "  background-repeat: no-repeat;\n",
              "  background-position: center center;\n",
              "}\n",
              "\n",
              "/* Parallel-specific style estimator block */\n",
              "\n",
              "#sk-container-id-5 div.sk-parallel-item::after {\n",
              "  content: \"\";\n",
              "  width: 100%;\n",
              "  border-bottom: 2px solid var(--sklearn-color-text-on-default-background);\n",
              "  flex-grow: 1;\n",
              "}\n",
              "\n",
              "#sk-container-id-5 div.sk-parallel {\n",
              "  display: flex;\n",
              "  align-items: stretch;\n",
              "  justify-content: center;\n",
              "  background-color: var(--sklearn-color-background);\n",
              "  position: relative;\n",
              "}\n",
              "\n",
              "#sk-container-id-5 div.sk-parallel-item {\n",
              "  display: flex;\n",
              "  flex-direction: column;\n",
              "}\n",
              "\n",
              "#sk-container-id-5 div.sk-parallel-item:first-child::after {\n",
              "  align-self: flex-end;\n",
              "  width: 50%;\n",
              "}\n",
              "\n",
              "#sk-container-id-5 div.sk-parallel-item:last-child::after {\n",
              "  align-self: flex-start;\n",
              "  width: 50%;\n",
              "}\n",
              "\n",
              "#sk-container-id-5 div.sk-parallel-item:only-child::after {\n",
              "  width: 0;\n",
              "}\n",
              "\n",
              "/* Serial-specific style estimator block */\n",
              "\n",
              "#sk-container-id-5 div.sk-serial {\n",
              "  display: flex;\n",
              "  flex-direction: column;\n",
              "  align-items: center;\n",
              "  background-color: var(--sklearn-color-background);\n",
              "  padding-right: 1em;\n",
              "  padding-left: 1em;\n",
              "}\n",
              "\n",
              "\n",
              "/* Toggleable style: style used for estimator/Pipeline/ColumnTransformer box that is\n",
              "clickable and can be expanded/collapsed.\n",
              "- Pipeline and ColumnTransformer use this feature and define the default style\n",
              "- Estimators will overwrite some part of the style using the `sk-estimator` class\n",
              "*/\n",
              "\n",
              "/* Pipeline and ColumnTransformer style (default) */\n",
              "\n",
              "#sk-container-id-5 div.sk-toggleable {\n",
              "  /* Default theme specific background. It is overwritten whether we have a\n",
              "  specific estimator or a Pipeline/ColumnTransformer */\n",
              "  background-color: var(--sklearn-color-background);\n",
              "}\n",
              "\n",
              "/* Toggleable label */\n",
              "#sk-container-id-5 label.sk-toggleable__label {\n",
              "  cursor: pointer;\n",
              "  display: block;\n",
              "  width: 100%;\n",
              "  margin-bottom: 0;\n",
              "  padding: 0.5em;\n",
              "  box-sizing: border-box;\n",
              "  text-align: center;\n",
              "}\n",
              "\n",
              "#sk-container-id-5 label.sk-toggleable__label-arrow:before {\n",
              "  /* Arrow on the left of the label */\n",
              "  content: \"▸\";\n",
              "  float: left;\n",
              "  margin-right: 0.25em;\n",
              "  color: var(--sklearn-color-icon);\n",
              "}\n",
              "\n",
              "#sk-container-id-5 label.sk-toggleable__label-arrow:hover:before {\n",
              "  color: var(--sklearn-color-text);\n",
              "}\n",
              "\n",
              "/* Toggleable content - dropdown */\n",
              "\n",
              "#sk-container-id-5 div.sk-toggleable__content {\n",
              "  max-height: 0;\n",
              "  max-width: 0;\n",
              "  overflow: hidden;\n",
              "  text-align: left;\n",
              "  /* unfitted */\n",
              "  background-color: var(--sklearn-color-unfitted-level-0);\n",
              "}\n",
              "\n",
              "#sk-container-id-5 div.sk-toggleable__content.fitted {\n",
              "  /* fitted */\n",
              "  background-color: var(--sklearn-color-fitted-level-0);\n",
              "}\n",
              "\n",
              "#sk-container-id-5 div.sk-toggleable__content pre {\n",
              "  margin: 0.2em;\n",
              "  border-radius: 0.25em;\n",
              "  color: var(--sklearn-color-text);\n",
              "  /* unfitted */\n",
              "  background-color: var(--sklearn-color-unfitted-level-0);\n",
              "}\n",
              "\n",
              "#sk-container-id-5 div.sk-toggleable__content.fitted pre {\n",
              "  /* unfitted */\n",
              "  background-color: var(--sklearn-color-fitted-level-0);\n",
              "}\n",
              "\n",
              "#sk-container-id-5 input.sk-toggleable__control:checked~div.sk-toggleable__content {\n",
              "  /* Expand drop-down */\n",
              "  max-height: 200px;\n",
              "  max-width: 100%;\n",
              "  overflow: auto;\n",
              "}\n",
              "\n",
              "#sk-container-id-5 input.sk-toggleable__control:checked~label.sk-toggleable__label-arrow:before {\n",
              "  content: \"▾\";\n",
              "}\n",
              "\n",
              "/* Pipeline/ColumnTransformer-specific style */\n",
              "\n",
              "#sk-container-id-5 div.sk-label input.sk-toggleable__control:checked~label.sk-toggleable__label {\n",
              "  color: var(--sklearn-color-text);\n",
              "  background-color: var(--sklearn-color-unfitted-level-2);\n",
              "}\n",
              "\n",
              "#sk-container-id-5 div.sk-label.fitted input.sk-toggleable__control:checked~label.sk-toggleable__label {\n",
              "  background-color: var(--sklearn-color-fitted-level-2);\n",
              "}\n",
              "\n",
              "/* Estimator-specific style */\n",
              "\n",
              "/* Colorize estimator box */\n",
              "#sk-container-id-5 div.sk-estimator input.sk-toggleable__control:checked~label.sk-toggleable__label {\n",
              "  /* unfitted */\n",
              "  background-color: var(--sklearn-color-unfitted-level-2);\n",
              "}\n",
              "\n",
              "#sk-container-id-5 div.sk-estimator.fitted input.sk-toggleable__control:checked~label.sk-toggleable__label {\n",
              "  /* fitted */\n",
              "  background-color: var(--sklearn-color-fitted-level-2);\n",
              "}\n",
              "\n",
              "#sk-container-id-5 div.sk-label label.sk-toggleable__label,\n",
              "#sk-container-id-5 div.sk-label label {\n",
              "  /* The background is the default theme color */\n",
              "  color: var(--sklearn-color-text-on-default-background);\n",
              "}\n",
              "\n",
              "/* On hover, darken the color of the background */\n",
              "#sk-container-id-5 div.sk-label:hover label.sk-toggleable__label {\n",
              "  color: var(--sklearn-color-text);\n",
              "  background-color: var(--sklearn-color-unfitted-level-2);\n",
              "}\n",
              "\n",
              "/* Label box, darken color on hover, fitted */\n",
              "#sk-container-id-5 div.sk-label.fitted:hover label.sk-toggleable__label.fitted {\n",
              "  color: var(--sklearn-color-text);\n",
              "  background-color: var(--sklearn-color-fitted-level-2);\n",
              "}\n",
              "\n",
              "/* Estimator label */\n",
              "\n",
              "#sk-container-id-5 div.sk-label label {\n",
              "  font-family: monospace;\n",
              "  font-weight: bold;\n",
              "  display: inline-block;\n",
              "  line-height: 1.2em;\n",
              "}\n",
              "\n",
              "#sk-container-id-5 div.sk-label-container {\n",
              "  text-align: center;\n",
              "}\n",
              "\n",
              "/* Estimator-specific */\n",
              "#sk-container-id-5 div.sk-estimator {\n",
              "  font-family: monospace;\n",
              "  border: 1px dotted var(--sklearn-color-border-box);\n",
              "  border-radius: 0.25em;\n",
              "  box-sizing: border-box;\n",
              "  margin-bottom: 0.5em;\n",
              "  /* unfitted */\n",
              "  background-color: var(--sklearn-color-unfitted-level-0);\n",
              "}\n",
              "\n",
              "#sk-container-id-5 div.sk-estimator.fitted {\n",
              "  /* fitted */\n",
              "  background-color: var(--sklearn-color-fitted-level-0);\n",
              "}\n",
              "\n",
              "/* on hover */\n",
              "#sk-container-id-5 div.sk-estimator:hover {\n",
              "  /* unfitted */\n",
              "  background-color: var(--sklearn-color-unfitted-level-2);\n",
              "}\n",
              "\n",
              "#sk-container-id-5 div.sk-estimator.fitted:hover {\n",
              "  /* fitted */\n",
              "  background-color: var(--sklearn-color-fitted-level-2);\n",
              "}\n",
              "\n",
              "/* Specification for estimator info (e.g. \"i\" and \"?\") */\n",
              "\n",
              "/* Common style for \"i\" and \"?\" */\n",
              "\n",
              ".sk-estimator-doc-link,\n",
              "a:link.sk-estimator-doc-link,\n",
              "a:visited.sk-estimator-doc-link {\n",
              "  float: right;\n",
              "  font-size: smaller;\n",
              "  line-height: 1em;\n",
              "  font-family: monospace;\n",
              "  background-color: var(--sklearn-color-background);\n",
              "  border-radius: 1em;\n",
              "  height: 1em;\n",
              "  width: 1em;\n",
              "  text-decoration: none !important;\n",
              "  margin-left: 1ex;\n",
              "  /* unfitted */\n",
              "  border: var(--sklearn-color-unfitted-level-1) 1pt solid;\n",
              "  color: var(--sklearn-color-unfitted-level-1);\n",
              "}\n",
              "\n",
              ".sk-estimator-doc-link.fitted,\n",
              "a:link.sk-estimator-doc-link.fitted,\n",
              "a:visited.sk-estimator-doc-link.fitted {\n",
              "  /* fitted */\n",
              "  border: var(--sklearn-color-fitted-level-1) 1pt solid;\n",
              "  color: var(--sklearn-color-fitted-level-1);\n",
              "}\n",
              "\n",
              "/* On hover */\n",
              "div.sk-estimator:hover .sk-estimator-doc-link:hover,\n",
              ".sk-estimator-doc-link:hover,\n",
              "div.sk-label-container:hover .sk-estimator-doc-link:hover,\n",
              ".sk-estimator-doc-link:hover {\n",
              "  /* unfitted */\n",
              "  background-color: var(--sklearn-color-unfitted-level-3);\n",
              "  color: var(--sklearn-color-background);\n",
              "  text-decoration: none;\n",
              "}\n",
              "\n",
              "div.sk-estimator.fitted:hover .sk-estimator-doc-link.fitted:hover,\n",
              ".sk-estimator-doc-link.fitted:hover,\n",
              "div.sk-label-container:hover .sk-estimator-doc-link.fitted:hover,\n",
              ".sk-estimator-doc-link.fitted:hover {\n",
              "  /* fitted */\n",
              "  background-color: var(--sklearn-color-fitted-level-3);\n",
              "  color: var(--sklearn-color-background);\n",
              "  text-decoration: none;\n",
              "}\n",
              "\n",
              "/* Span, style for the box shown on hovering the info icon */\n",
              ".sk-estimator-doc-link span {\n",
              "  display: none;\n",
              "  z-index: 9999;\n",
              "  position: relative;\n",
              "  font-weight: normal;\n",
              "  right: .2ex;\n",
              "  padding: .5ex;\n",
              "  margin: .5ex;\n",
              "  width: min-content;\n",
              "  min-width: 20ex;\n",
              "  max-width: 50ex;\n",
              "  color: var(--sklearn-color-text);\n",
              "  box-shadow: 2pt 2pt 4pt #999;\n",
              "  /* unfitted */\n",
              "  background: var(--sklearn-color-unfitted-level-0);\n",
              "  border: .5pt solid var(--sklearn-color-unfitted-level-3);\n",
              "}\n",
              "\n",
              ".sk-estimator-doc-link.fitted span {\n",
              "  /* fitted */\n",
              "  background: var(--sklearn-color-fitted-level-0);\n",
              "  border: var(--sklearn-color-fitted-level-3);\n",
              "}\n",
              "\n",
              ".sk-estimator-doc-link:hover span {\n",
              "  display: block;\n",
              "}\n",
              "\n",
              "/* \"?\"-specific style due to the `<a>` HTML tag */\n",
              "\n",
              "#sk-container-id-5 a.estimator_doc_link {\n",
              "  float: right;\n",
              "  font-size: 1rem;\n",
              "  line-height: 1em;\n",
              "  font-family: monospace;\n",
              "  background-color: var(--sklearn-color-background);\n",
              "  border-radius: 1rem;\n",
              "  height: 1rem;\n",
              "  width: 1rem;\n",
              "  text-decoration: none;\n",
              "  /* unfitted */\n",
              "  color: var(--sklearn-color-unfitted-level-1);\n",
              "  border: var(--sklearn-color-unfitted-level-1) 1pt solid;\n",
              "}\n",
              "\n",
              "#sk-container-id-5 a.estimator_doc_link.fitted {\n",
              "  /* fitted */\n",
              "  border: var(--sklearn-color-fitted-level-1) 1pt solid;\n",
              "  color: var(--sklearn-color-fitted-level-1);\n",
              "}\n",
              "\n",
              "/* On hover */\n",
              "#sk-container-id-5 a.estimator_doc_link:hover {\n",
              "  /* unfitted */\n",
              "  background-color: var(--sklearn-color-unfitted-level-3);\n",
              "  color: var(--sklearn-color-background);\n",
              "  text-decoration: none;\n",
              "}\n",
              "\n",
              "#sk-container-id-5 a.estimator_doc_link.fitted:hover {\n",
              "  /* fitted */\n",
              "  background-color: var(--sklearn-color-fitted-level-3);\n",
              "}\n",
              "</style><div id=\"sk-container-id-5\" class=\"sk-top-container\"><div class=\"sk-text-repr-fallback\"><pre>LogisticRegression()</pre><b>In a Jupyter environment, please rerun this cell to show the HTML representation or trust the notebook. <br />On GitHub, the HTML representation is unable to render, please try loading this page with nbviewer.org.</b></div><div class=\"sk-container\" hidden><div class=\"sk-item\"><div class=\"sk-estimator fitted sk-toggleable\"><input class=\"sk-toggleable__control sk-hidden--visually\" id=\"sk-estimator-id-5\" type=\"checkbox\" checked><label for=\"sk-estimator-id-5\" class=\"sk-toggleable__label fitted sk-toggleable__label-arrow fitted\">&nbsp;&nbsp;LogisticRegression<a class=\"sk-estimator-doc-link fitted\" rel=\"noreferrer\" target=\"_blank\" href=\"https://scikit-learn.org/1.5/modules/generated/sklearn.linear_model.LogisticRegression.html\">?<span>Documentation for LogisticRegression</span></a><span class=\"sk-estimator-doc-link fitted\">i<span>Fitted</span></span></label><div class=\"sk-toggleable__content fitted\"><pre>LogisticRegression()</pre></div> </div></div></div></div>"
            ],
            "text/plain": [
              "LogisticRegression()"
            ]
          },
          "execution_count": 229,
          "metadata": {},
          "output_type": "execute_result"
        }
      ],
      "source": [
        "# Instantiate Logistic Regression model and fit it to my training data\n",
        "logreg = LogisticRegression()\n",
        "logreg.fit(X_train_scaled, y_train)"
      ]
    },
    {
      "cell_type": "code",
      "execution_count": 230,
      "metadata": {
        "id": "zKgvvh3NIBBT"
      },
      "outputs": [],
      "source": [
        "# Make prediction on test data\n",
        "logreg_pred = logreg.predict(X_test_scaled)"
      ]
    },
    {
      "cell_type": "code",
      "execution_count": 231,
      "metadata": {
        "colab": {
          "base_uri": "https://localhost:8080/"
        },
        "id": "GyXsxQHXIH33",
        "outputId": "9b3840a4-193b-4fb5-c26e-b10f8b7bc2c5"
      },
      "outputs": [
        {
          "name": "stdout",
          "output_type": "stream",
          "text": [
            "Accuracy of Logistic Regression: 0.8947368421052632\n"
          ]
        }
      ],
      "source": [
        "# Evaluate the accuracy of my prediction\n",
        "logreg_accuracy = accuracy_score(y_test, logreg_pred)\n",
        "print(\"Accuracy of Logistic Regression:\", logreg_accuracy)"
      ]
    },
    {
      "cell_type": "code",
      "execution_count": 232,
      "metadata": {
        "colab": {
          "base_uri": "https://localhost:8080/"
        },
        "id": "fq17AwJzIbeg",
        "outputId": "0c0524ab-10a7-47ed-d363-f45cf91597a0"
      },
      "outputs": [
        {
          "name": "stdout",
          "output_type": "stream",
          "text": [
            "Confusion Matrix of Logistic Regression:\n",
            " [[263  19]\n",
            " [ 25 111]]\n"
          ]
        }
      ],
      "source": [
        "# Compute confusion matrix\n",
        "logreg_confusion_matrix = confusion_matrix(y_test, logreg_pred)\n",
        "print(\"Confusion Matrix of Logistic Regression:\\n\", logreg_confusion_matrix)"
      ]
    },
    {
      "cell_type": "code",
      "execution_count": 233,
      "metadata": {
        "colab": {
          "base_uri": "https://localhost:8080/"
        },
        "id": "st68Xr0YIi5E",
        "outputId": "eeb5e1ff-e7e1-4764-eef0-508457e46d99"
      },
      "outputs": [
        {
          "name": "stdout",
          "output_type": "stream",
          "text": [
            "Classification Report of Logistic Regression:\n",
            "               precision    recall  f1-score   support\n",
            "\n",
            "           0       0.91      0.93      0.92       282\n",
            "           1       0.85      0.82      0.83       136\n",
            "\n",
            "    accuracy                           0.89       418\n",
            "   macro avg       0.88      0.87      0.88       418\n",
            "weighted avg       0.89      0.89      0.89       418\n",
            "\n"
          ]
        }
      ],
      "source": [
        "# Compute precision, recall, and f1-score\n",
        "logreg_classification_report = classification_report(y_test, logreg_pred)\n",
        "print(\"Classification Report of Logistic Regression:\\n\", logreg_classification_report)"
      ]
    },
    {
      "cell_type": "code",
      "execution_count": 234,
      "metadata": {
        "colab": {
          "base_uri": "https://localhost:8080/"
        },
        "id": "dtQxBX-5Ud3-",
        "outputId": "2705cdca-29f5-464b-f3fa-7fdef3285621"
      },
      "outputs": [
        {
          "name": "stdout",
          "output_type": "stream",
          "text": [
            "\n",
            "These are the Top Predictive Features:\n",
            "\n",
            "             Feature  Coefficient\n",
            "4               Term    -4.161669\n",
            "14            GrAppv     2.524907\n",
            "17        RealEstate     2.351907\n",
            "15          SBA_Appv    -2.150622\n",
            "2       ApprovalDate     1.953231\n",
            "12  DisbursementDate    -1.613920\n",
            "3         ApprovalFY     0.708547\n",
            "5              NoEmp    -0.580732\n",
            "18           Portion     0.455970\n",
            "1              NAICS    -0.377890\n",
            "22      BankState_NC     0.366226\n",
            "10         RevLineCr    -0.346075\n",
            "25      BankState_OR     0.333302\n",
            "27      BankState_SD     0.309461\n",
            "21      BankState_IL     0.228360\n"
          ]
        }
      ],
      "source": [
        "# Feature importance\n",
        "importance = pd.DataFrame({\n",
        "    'Feature': X.columns,\n",
        "    'Coefficient': logreg.coef_[0]\n",
        "}).sort_values('Coefficient', key=abs, ascending=False)\n",
        "\n",
        "print(\"\\nThese are the Top Predictive Features:\\n\")\n",
        "print(importance.head(15))"
      ]
    }
  ],
  "metadata": {
    "colab": {
      "provenance": []
    },
    "kernelspec": {
      "display_name": "Python 3",
      "name": "python3"
    },
    "language_info": {
      "codemirror_mode": {
        "name": "ipython",
        "version": 3
      },
      "file_extension": ".py",
      "mimetype": "text/x-python",
      "name": "python",
      "nbconvert_exporter": "python",
      "pygments_lexer": "ipython3",
      "version": "3.13.0"
    }
  },
  "nbformat": 4,
  "nbformat_minor": 0
}
